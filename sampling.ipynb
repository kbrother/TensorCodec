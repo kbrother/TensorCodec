{
 "cells": [
  {
   "cell_type": "code",
   "execution_count": 1,
   "id": "c75c6d59",
   "metadata": {},
   "outputs": [],
   "source": [
    "data_name = \"kstock_reorder\"\n",
    "num_row, num_col = 2**11*3, 2**12\n",
    "data_file = \"../data/\" + data_name + \"_mat.npy\"\n",
    "percent = 5\n"
   ]
  },
  {
   "cell_type": "code",
   "execution_count": 2,
   "id": "deddb12b",
   "metadata": {},
   "outputs": [],
   "source": [
    "import torch\n",
    "import numpy as np\n",
    "\n",
    "device = torch.device('cuda:0')\n",
    "src_mat = np.load(data_file)\n",
    "real_num_row, real_num_col = src_mat.shape[0], src_mat.shape[1]\n",
    "real_num_entry = real_num_row * real_num_col\n",
    "num_sample = int(percent / 100 * real_num_entry)\n",
    "samples = torch.randperm(real_num_entry)\n",
    "samples = samples[:num_sample].to(device)\n",
    "np.save('samples/' + data_name + \"_samples.npy\", samples.cpu().numpy())"
   ]
  }
 ],
 "metadata": {
  "kernelspec": {
   "display_name": "Full on Python 3.7 (GPU)",
   "language": "python",
   "name": "python3"
  },
  "language_info": {
   "codemirror_mode": {
    "name": "ipython",
    "version": 3
   },
   "file_extension": ".py",
   "mimetype": "text/x-python",
   "name": "python",
   "nbconvert_exporter": "python",
   "pygments_lexer": "ipython3",
   "version": "3.7.11"
  }
 },
 "nbformat": 4,
 "nbformat_minor": 5
}
